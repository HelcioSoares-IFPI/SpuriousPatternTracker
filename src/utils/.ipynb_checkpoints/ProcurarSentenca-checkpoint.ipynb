{
 "cells": [
  {
   "cell_type": "code",
   "execution_count": null,
   "id": "309583f3",
   "metadata": {},
   "outputs": [],
   "source": [
    "import os\n",
    "\n",
    "def procurar_palavra_em_arquivos(pasta, palavra):\n",
    "    for nome_arquivo in os.listdir(pasta):\n",
    "        caminho_arquivo = os.path.join(pasta, nome_arquivo)\n",
    "        if os.path.isfile(caminho_arquivo):\n",
    "            with open(caminho_arquivo, 'r', encoding='latin-1') as arquivo:\n",
    "                conteudo = arquivo.read()\n",
    "                if palavra in conteudo:\n",
    "                    print(caminho_arquivo)\n",
    "        elif os.path.isdir(caminho_arquivo):\n",
    "            procurar_palavra_em_arquivos(caminho_arquivo, palavra)\n",
    "\n",
    "pasta_inicial = './../'\n",
    "palavra_procurada = 'acrescimo art lei fed eral recursos orcamento geral'\n",
    "\n",
    "procurar_palavra_em_arquivos(pasta_inicial, palavra_procurada)"
   ]
  }
 ],
 "metadata": {
  "kernelspec": {
   "display_name": "Python 3 (ipykernel)",
   "language": "python",
   "name": "python3"
  },
  "language_info": {
   "codemirror_mode": {
    "name": "ipython",
    "version": 3
   },
   "file_extension": ".py",
   "mimetype": "text/x-python",
   "name": "python",
   "nbconvert_exporter": "python",
   "pygments_lexer": "ipython3",
   "version": "3.9.13"
  }
 },
 "nbformat": 4,
 "nbformat_minor": 5
}
